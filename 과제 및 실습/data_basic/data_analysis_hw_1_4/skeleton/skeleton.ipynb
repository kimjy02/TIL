{
 "cells": [
  {
   "cell_type": "code",
   "execution_count": null,
   "id": "1681e4a1",
   "metadata": {},
   "outputs": [],
   "source": [
    "import pandas as pd  # Pandas 라이브러리 불러오기\n",
    "\n",
    "# 1. Titanic 데이터셋 불러오기 (파일 경로는 사용자 환경에 맞게 변경)\n",
    "df = pd.read_csv(\"________\")  # Titanic 데이터셋 파일명을 입력하세요.\n"
   ]
  },
  {
   "cell_type": "code",
   "execution_count": null,
   "id": "14101d88",
   "metadata": {},
   "outputs": [],
   "source": [
    "# 2. 결측치 확인 및 처리\n",
    "# Age 컬럼의 결측치 개수를 출력\n",
    "missing_age_count = df[\"________\"].____().sum()  # 결측치를 확인할 컬럼명을 입력하세요.\n",
    "print(f\"Age 결측치 개수: {missing_age_count}\")\n",
    "\n",
    "# Age 컬럼의 결측치를 중앙값(median)으로 대체\n",
    "df[\"Age\"] = df[\"Age\"].________(df[\"Age\"].median())  # 결측치를 대체할 적절한 값을 입력하세요.\n"
   ]
  },
  {
   "cell_type": "code",
   "execution_count": null,
   "id": "6cf083cc",
   "metadata": {},
   "outputs": [],
   "source": [
    "# 3. 생존 여부(Survived) 컬럼 분석\n",
    "# Survived 값: 0 (사망), 1 (생존)\n",
    "survived_count = (df[\"________\"] == 1).sum()  # 생존자 수를 계산하세요.\n",
    "dead_count = (df[\"________\"] == 0).sum()  # 사망자 수를 계산하세요.\n",
    "\n",
    "print(\"\\n생존자 및 사망자 수:\")\n",
    "print(f\"생존자: {survived_count}, 사망자: {dead_count}\")\n"
   ]
  },
  {
   "cell_type": "code",
   "execution_count": null,
   "id": "2a9f7e98",
   "metadata": {},
   "outputs": [],
   "source": [
    "# 4. 성별(Sex)에 따른 생존율 비교\n",
    "# 남성과 여성의 생존자 수 계산\n",
    "male_survived = df[(df[\"Sex\"] == \"male\") & (df[\"Survived\"] == 1)].________[0]  # 남성 생존자 수를 구하세요.\n",
    "female_survived = df[(________) & (df[\"Survived\"] == 1)].________[0]  # 여성 생존자 수를 구하세요.\n",
    "\n",
    "# 남성과 여성의 전체 승객 수 계산\n",
    "male_total = df[df[\"Sex\"] == \"male\"].________[0]  # 전체 남성 승객 수를 구하세요.\n",
    "female_total = df[________].________[0]  # 전체 여성 승객 수를 구하세요.\n",
    "\n",
    "# 생존율 계산\n",
    "male_survival_rate = male_survived / ________  # 남성 생존율을 계산하세요.\n",
    "female_survival_rate = female_survived / ________  # 여성 생존율을 계산하세요.\n",
    "\n",
    "print(\"\\n성별에 따른 생존율:\")\n",
    "print(f\"남성 생존율: {male_survival_rate:.2f}\")\n",
    "print(f\"여성 생존율: {female_survival_rate:.2f}\")"
   ]
  },
  {
   "cell_type": "code",
   "execution_count": null,
   "id": "e759bbd2",
   "metadata": {},
   "outputs": [],
   "source": [
    "# 5. 선실 등급(Pclass)에 따른 생존율 비교\n",
    "# 각 등급별 생존자 수 계산\n",
    "pclass1_survived = df[(df[\"Pclass\"] == 1) & (df[\"Survived\"] == 1)].________[0]  # 1등석 생존자 수\n",
    "pclass2_survived = df[(df[\"Pclass\"] == 2) & (df[\"Survived\"] == 1)].________[0]  # 2등석 생존자 수\n",
    "pclass3_survived = df[(df[\"Pclass\"] == 3) & (df[\"Survived\"] == 1)].________[0]  # 3등석 생존자 수\n",
    "\n",
    "# 각 등급별 전체 승객 수 계산\n",
    "pclass1_total = df[df[\"Pclass\"] == 1].________[0]  # 1등석 전체 승객 수\n",
    "pclass2_total = df[df[\"Pclass\"] == 2].________[0]  # 2등석 전체 승객 수\n",
    "pclass3_total = df[df[\"Pclass\"] == 3].________[0]  # 3등석 전체 승객 수\n",
    "\n",
    "# 생존율 계산\n",
    "pclass1_survival_rate = ________ / ________  # 1등석 생존율 계산\n",
    "pclass2_survival_rate = ________ / ________  # 2등석 생존율 계산\n",
    "pclass3_survival_rate = ________ / ________  # 3등석 생존율 계산\n",
    "\n",
    "print(\"\\n선실 등급에 따른 생존율:\")\n",
    "print(f\"1등석 생존율: {pclass1_survival_rate:.2f}\")\n",
    "print(f\"2등석 생존율: {pclass2_survival_rate:.2f}\")\n",
    "print(f\"3등석 생존율: {pclass3_survival_rate:.2f}\")\n"
   ]
  },
  {
   "cell_type": "code",
   "execution_count": null,
   "id": "f5486001",
   "metadata": {},
   "outputs": [],
   "source": [
    "# 6. 연령대(Age_Group)를 생성하여 생존율 비교\n",
    "# 새로운 컬럼 'Age_Group' 생성\n",
    "df[\"________\"] = \"Unknown\"  # 새로운 컬럼명을 입력하세요.\n",
    "\n",
    "# 조건에 따라 연령대 분류\n",
    "df.loc[________________________] = \"Child\"  # 10세 이하\n",
    "df.loc[________________________] = \"Teen\"  # 11~19세\n",
    "df.loc[________________________] = \"Adult\"  # 20~39세\n",
    "df.loc[________________________] = \"Senior\"  # 40세 이상\n",
    "\n",
    "# 각 연령대별 생존자 수 계산\n",
    "child_survived = df[(df[\"Age_Group\"] == \"Child\") & (df[\"Survived\"] == 1)].________[0]  # Child 생존자 수\n",
    "teen_survived = df[(df[\"Age_Group\"] == \"Teen\") & (df[\"Survived\"] == 1)].________[0]  # Teen 생존자 수\n",
    "adult_survived = df[(df[\"Age_Group\"] == \"Adult\") & (df[\"Survived\"] == 1)].________[0]  # Adult 생존자 수\n",
    "senior_survived = df[(df[\"Age_Group\"] == \"Senior\") & (df[\"Survived\"] == 1)].________[0]  # Senior 생존자 수\n",
    "\n",
    "# 각 연령대별 전체 승객 수 계산\n",
    "child_total = df[df[\"Age_Group\"] == \"Child\"].________[0]  # Child 승객 수\n",
    "teen_total = df[df[\"Age_Group\"] == \"Teen\"].________[0]  # Teen 승객 수\n",
    "adult_total = df[df[\"Age_Group\"] == \"Adult\"].________[0]  # Adult 승객 수\n",
    "senior_total = df[df[\"Age_Group\"] == \"Senior\"].________[0]  # Senior 승객 수\n",
    "\n",
    "# 생존율 계산\n",
    "child_survival_rate = ________ / ________  # Child 생존율 계산\n",
    "teen_survival_rate = ________ / ________  # Teen 생존율 계산\n",
    "adult_survival_rate = ________ / ________  # Adult 생존율 계산\n",
    "senior_survival_rate = ________ / ________  # Senior 생존율 계산\n",
    "\n",
    "print(\"\\n연령대별 생존율:\")\n",
    "print(f\"Child (10세 이하) 생존율: {child_survival_rate:.2f}\")\n",
    "print(f\"Teen (11~19세) 생존율: {teen_survival_rate:.2f}\")\n",
    "print(f\"Adult (20~39세) 생존율: {adult_survival_rate:.2f}\")\n",
    "print(f\"Senior (40세 이상) 생존율: {senior_survival_rate:.2f}\")"
   ]
  }
 ],
 "metadata": {
  "kernelspec": {
   "display_name": "3.10.3",
   "language": "python",
   "name": "python3"
  },
  "language_info": {
   "codemirror_mode": {
    "name": "ipython",
    "version": 3
   },
   "file_extension": ".py",
   "mimetype": "text/x-python",
   "name": "python",
   "nbconvert_exporter": "python",
   "pygments_lexer": "ipython3",
   "version": "3.10.3"
  }
 },
 "nbformat": 4,
 "nbformat_minor": 5
}
