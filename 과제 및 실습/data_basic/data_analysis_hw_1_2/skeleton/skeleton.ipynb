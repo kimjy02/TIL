{
 "cells": [
  {
   "cell_type": "code",
   "execution_count": null,
   "id": "a9f5a3bf",
   "metadata": {},
   "outputs": [],
   "source": [
    "import pandas as pd  # Pandas 라이브러리 불러오기\n",
    "\n",
    "# 1. Titanic 데이터셋 불러오기 (파일 경로는 사용자 환경에 맞게 변경)\n",
    "df = pd.read_csv(\"../data/titanic.csv\")  # CSV 파일명을 올바르게 입력하세요.\n",
    "\n"
   ]
  },
  {
   "cell_type": "code",
   "execution_count": null,
   "id": "c74440a3",
   "metadata": {},
   "outputs": [],
   "source": [
    "# 2. Age 값에 따라 연령대(Age_Group) 컬럼 생성\n",
    "# 먼저, 새로운 컬럼 'Age_Group'을 기본값 'Unknown'으로 설정 (결측치 포함)\n",
    "df[\"Age_Group\"] = \"________\"  # 기본값을 올바르게 입력하세요.\n"
   ]
  },
  {
   "cell_type": "code",
   "execution_count": null,
   "id": "7707cd58",
   "metadata": {},
   "outputs": [],
   "source": [
    "# 3. loc을 사용하여 조건에 맞는 행의 'Age_Group' 값을 변경\n",
    "# 나이가 10세 이하인 승객의 'Age_Group' 값을 \"Child\"로 변경\n",
    "df.loc[df[\"Age\"] <= ________, \"Age_Group\"] = \"Child\"\n",
    "\n",
    "# 나이가 11세 이상 19세 이하인 승객의 'Age_Group' 값을 \"Teen\"으로 변경\n",
    "df.loc[(df[\"Age\"] >= ________) & (df[\"Age\"] <= ________), \"Age_Group\"] = \"Teen\"\n",
    "\n",
    "# 나이가 20세 이상 39세 이하인 승객의 'Age_Group' 값을 \"Adult\"로 변경\n",
    "df.loc[(df[\"Age\"] >= ________) & (df[\"Age\"] <= ________), \"Age_Group\"] = \"Adult\"\n",
    "\n",
    "# 나이가 40세 이상인 승객의 'Age_Group' 값을 \"Senior\"로 변경\n",
    "df.loc[df[\"Age\"] >= ________, \"Age_Group\"] = \"Senior\""
   ]
  },
  {
   "cell_type": "code",
   "execution_count": null,
   "id": "83722e5d",
   "metadata": {},
   "outputs": [],
   "source": [
    "# 4. 'Child' 연령대 승객만 필터링하여 출력\n",
    "# 'Age_Group' 값이 \"Child\"인 승객만 선택\n",
    "child_passengers = df[df[\"Age_Group\"] == \"________\"]\n",
    "\n",
    "# 주요 정보 (이름, 나이, 연령대)만 출력\n",
    "print(child_passengers[[________, \"Age\", \"Age_Group\"]])  # 컬럼명을 올바르게 입력하세요."
   ]
  },
  {
   "cell_type": "markdown",
   "id": "265ba17e",
   "metadata": {},
   "source": []
  }
 ],
 "metadata": {
  "language_info": {
   "name": "python"
  }
 },
 "nbformat": 4,
 "nbformat_minor": 5
}
